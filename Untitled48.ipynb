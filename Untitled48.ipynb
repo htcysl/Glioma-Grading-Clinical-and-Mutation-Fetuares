{
  "nbformat": 4,
  "nbformat_minor": 0,
  "metadata": {
    "colab": {
      "provenance": [],
      "gpuType": "T4",
      "authorship_tag": "ABX9TyPtSXD0Vjn+gQ9aluTsw3St",
      "include_colab_link": true
    },
    "kernelspec": {
      "name": "python3",
      "display_name": "Python 3"
    },
    "language_info": {
      "name": "python"
    },
    "accelerator": "GPU"
  },
  "cells": [
    {
      "cell_type": "markdown",
      "metadata": {
        "id": "view-in-github",
        "colab_type": "text"
      },
      "source": [
        "<a href=\"https://colab.research.google.com/github/htcysl/Glioma-Grading-Clinical-and-Mutation-Fetuares/blob/main/Untitled48.ipynb\" target=\"_parent\"><img src=\"https://colab.research.google.com/assets/colab-badge.svg\" alt=\"Open In Colab\"/></a>"
      ]
    },
    {
      "cell_type": "code",
      "source": [
        "# Importing necessary framework\n",
        "import pandas as pd\n",
        "import numpy as np\n",
        "import xgboost as xgb\n",
        "from sklearn.model_selection import train_test_split\n",
        "from sklearn.metrics import accuracy_score, classification_report"
      ],
      "metadata": {
        "id": "YN1b1JgWsAAi"
      },
      "execution_count": 1,
      "outputs": []
    },
    {
      "cell_type": "code",
      "source": [
        "# upload fie from github\n",
        "url = \"https://github.com/htcysl/Glioma-Grading-Clinical-and-Mutation-Fetuares/raw/main/TCGA_InfoWithGrade.csv\"\n",
        "df = pd.read_csv(url)"
      ],
      "metadata": {
        "id": "0GdfOPqgt7Jw"
      },
      "execution_count": 2,
      "outputs": []
    },
    {
      "cell_type": "code",
      "source": [
        "df.info()"
      ],
      "metadata": {
        "colab": {
          "base_uri": "https://localhost:8080/"
        },
        "id": "-aIGzxNqwdPJ",
        "outputId": "51c0e505-344d-4e6c-8f2d-363b20386826"
      },
      "execution_count": 3,
      "outputs": [
        {
          "output_type": "stream",
          "name": "stdout",
          "text": [
            "<class 'pandas.core.frame.DataFrame'>\n",
            "RangeIndex: 839 entries, 0 to 838\n",
            "Data columns (total 24 columns):\n",
            " #   Column            Non-Null Count  Dtype  \n",
            "---  ------            --------------  -----  \n",
            " 0   Grade             839 non-null    int64  \n",
            " 1   Gender            839 non-null    int64  \n",
            " 2   Age_at_diagnosis  839 non-null    float64\n",
            " 3   Race              839 non-null    int64  \n",
            " 4   IDH1              839 non-null    int64  \n",
            " 5   TP53              839 non-null    int64  \n",
            " 6   ATRX              839 non-null    int64  \n",
            " 7   PTEN              839 non-null    int64  \n",
            " 8   EGFR              839 non-null    int64  \n",
            " 9   CIC               839 non-null    int64  \n",
            " 10  MUC16             839 non-null    int64  \n",
            " 11  PIK3CA            839 non-null    int64  \n",
            " 12  NF1               839 non-null    int64  \n",
            " 13  PIK3R1            839 non-null    int64  \n",
            " 14  FUBP1             839 non-null    int64  \n",
            " 15  RB1               839 non-null    int64  \n",
            " 16  NOTCH1            839 non-null    int64  \n",
            " 17  BCOR              839 non-null    int64  \n",
            " 18  CSMD3             839 non-null    int64  \n",
            " 19  SMARCA4           839 non-null    int64  \n",
            " 20  GRIN2A            839 non-null    int64  \n",
            " 21  IDH2              839 non-null    int64  \n",
            " 22  FAT4              839 non-null    int64  \n",
            " 23  PDGFRA            839 non-null    int64  \n",
            "dtypes: float64(1), int64(23)\n",
            "memory usage: 157.4 KB\n"
          ]
        }
      ]
    },
    {
      "cell_type": "code",
      "source": [
        "# Separate feature and target variable\n",
        "X, y =df.drop('Grade',axis=1), df[['Grade']]"
      ],
      "metadata": {
        "id": "zT37rsUH2NN5"
      },
      "execution_count": 4,
      "outputs": []
    },
    {
      "cell_type": "code",
      "source": [
        "X.head()"
      ],
      "metadata": {
        "colab": {
          "base_uri": "https://localhost:8080/",
          "height": 235
        },
        "id": "nqjnLmNd2NTu",
        "outputId": "67d194c8-640e-491b-e2c2-88018dd8deb2"
      },
      "execution_count": 5,
      "outputs": [
        {
          "output_type": "execute_result",
          "data": {
            "text/plain": [
              "   Gender  Age_at_diagnosis  Race  IDH1  TP53  ATRX  PTEN  EGFR  CIC  MUC16  \\\n",
              "0       0             51.30     0     1     0     0     0     0    0      0   \n",
              "1       0             38.72     0     1     0     0     0     0    1      0   \n",
              "2       0             35.17     0     1     1     1     0     0    0      0   \n",
              "3       1             32.78     0     1     1     1     0     0    0      1   \n",
              "4       0             31.51     0     1     1     1     0     0    0      0   \n",
              "\n",
              "   ...  FUBP1  RB1  NOTCH1  BCOR  CSMD3  SMARCA4  GRIN2A  IDH2  FAT4  PDGFRA  \n",
              "0  ...      1    0       0     0      0        0       0     0     0       0  \n",
              "1  ...      0    0       0     0      0        0       0     0     0       0  \n",
              "2  ...      0    0       0     0      0        0       0     0     0       0  \n",
              "3  ...      0    0       0     0      0        0       0     0     1       0  \n",
              "4  ...      0    0       0     0      0        0       0     0     0       0  \n",
              "\n",
              "[5 rows x 23 columns]"
            ],
            "text/html": [
              "\n",
              "\n",
              "  <div id=\"df-c9fd76c5-649c-47d0-904c-7698f06a4b72\">\n",
              "    <div class=\"colab-df-container\">\n",
              "      <div>\n",
              "<style scoped>\n",
              "    .dataframe tbody tr th:only-of-type {\n",
              "        vertical-align: middle;\n",
              "    }\n",
              "\n",
              "    .dataframe tbody tr th {\n",
              "        vertical-align: top;\n",
              "    }\n",
              "\n",
              "    .dataframe thead th {\n",
              "        text-align: right;\n",
              "    }\n",
              "</style>\n",
              "<table border=\"1\" class=\"dataframe\">\n",
              "  <thead>\n",
              "    <tr style=\"text-align: right;\">\n",
              "      <th></th>\n",
              "      <th>Gender</th>\n",
              "      <th>Age_at_diagnosis</th>\n",
              "      <th>Race</th>\n",
              "      <th>IDH1</th>\n",
              "      <th>TP53</th>\n",
              "      <th>ATRX</th>\n",
              "      <th>PTEN</th>\n",
              "      <th>EGFR</th>\n",
              "      <th>CIC</th>\n",
              "      <th>MUC16</th>\n",
              "      <th>...</th>\n",
              "      <th>FUBP1</th>\n",
              "      <th>RB1</th>\n",
              "      <th>NOTCH1</th>\n",
              "      <th>BCOR</th>\n",
              "      <th>CSMD3</th>\n",
              "      <th>SMARCA4</th>\n",
              "      <th>GRIN2A</th>\n",
              "      <th>IDH2</th>\n",
              "      <th>FAT4</th>\n",
              "      <th>PDGFRA</th>\n",
              "    </tr>\n",
              "  </thead>\n",
              "  <tbody>\n",
              "    <tr>\n",
              "      <th>0</th>\n",
              "      <td>0</td>\n",
              "      <td>51.30</td>\n",
              "      <td>0</td>\n",
              "      <td>1</td>\n",
              "      <td>0</td>\n",
              "      <td>0</td>\n",
              "      <td>0</td>\n",
              "      <td>0</td>\n",
              "      <td>0</td>\n",
              "      <td>0</td>\n",
              "      <td>...</td>\n",
              "      <td>1</td>\n",
              "      <td>0</td>\n",
              "      <td>0</td>\n",
              "      <td>0</td>\n",
              "      <td>0</td>\n",
              "      <td>0</td>\n",
              "      <td>0</td>\n",
              "      <td>0</td>\n",
              "      <td>0</td>\n",
              "      <td>0</td>\n",
              "    </tr>\n",
              "    <tr>\n",
              "      <th>1</th>\n",
              "      <td>0</td>\n",
              "      <td>38.72</td>\n",
              "      <td>0</td>\n",
              "      <td>1</td>\n",
              "      <td>0</td>\n",
              "      <td>0</td>\n",
              "      <td>0</td>\n",
              "      <td>0</td>\n",
              "      <td>1</td>\n",
              "      <td>0</td>\n",
              "      <td>...</td>\n",
              "      <td>0</td>\n",
              "      <td>0</td>\n",
              "      <td>0</td>\n",
              "      <td>0</td>\n",
              "      <td>0</td>\n",
              "      <td>0</td>\n",
              "      <td>0</td>\n",
              "      <td>0</td>\n",
              "      <td>0</td>\n",
              "      <td>0</td>\n",
              "    </tr>\n",
              "    <tr>\n",
              "      <th>2</th>\n",
              "      <td>0</td>\n",
              "      <td>35.17</td>\n",
              "      <td>0</td>\n",
              "      <td>1</td>\n",
              "      <td>1</td>\n",
              "      <td>1</td>\n",
              "      <td>0</td>\n",
              "      <td>0</td>\n",
              "      <td>0</td>\n",
              "      <td>0</td>\n",
              "      <td>...</td>\n",
              "      <td>0</td>\n",
              "      <td>0</td>\n",
              "      <td>0</td>\n",
              "      <td>0</td>\n",
              "      <td>0</td>\n",
              "      <td>0</td>\n",
              "      <td>0</td>\n",
              "      <td>0</td>\n",
              "      <td>0</td>\n",
              "      <td>0</td>\n",
              "    </tr>\n",
              "    <tr>\n",
              "      <th>3</th>\n",
              "      <td>1</td>\n",
              "      <td>32.78</td>\n",
              "      <td>0</td>\n",
              "      <td>1</td>\n",
              "      <td>1</td>\n",
              "      <td>1</td>\n",
              "      <td>0</td>\n",
              "      <td>0</td>\n",
              "      <td>0</td>\n",
              "      <td>1</td>\n",
              "      <td>...</td>\n",
              "      <td>0</td>\n",
              "      <td>0</td>\n",
              "      <td>0</td>\n",
              "      <td>0</td>\n",
              "      <td>0</td>\n",
              "      <td>0</td>\n",
              "      <td>0</td>\n",
              "      <td>0</td>\n",
              "      <td>1</td>\n",
              "      <td>0</td>\n",
              "    </tr>\n",
              "    <tr>\n",
              "      <th>4</th>\n",
              "      <td>0</td>\n",
              "      <td>31.51</td>\n",
              "      <td>0</td>\n",
              "      <td>1</td>\n",
              "      <td>1</td>\n",
              "      <td>1</td>\n",
              "      <td>0</td>\n",
              "      <td>0</td>\n",
              "      <td>0</td>\n",
              "      <td>0</td>\n",
              "      <td>...</td>\n",
              "      <td>0</td>\n",
              "      <td>0</td>\n",
              "      <td>0</td>\n",
              "      <td>0</td>\n",
              "      <td>0</td>\n",
              "      <td>0</td>\n",
              "      <td>0</td>\n",
              "      <td>0</td>\n",
              "      <td>0</td>\n",
              "      <td>0</td>\n",
              "    </tr>\n",
              "  </tbody>\n",
              "</table>\n",
              "<p>5 rows × 23 columns</p>\n",
              "</div>\n",
              "      <button class=\"colab-df-convert\" onclick=\"convertToInteractive('df-c9fd76c5-649c-47d0-904c-7698f06a4b72')\"\n",
              "              title=\"Convert this dataframe to an interactive table.\"\n",
              "              style=\"display:none;\">\n",
              "\n",
              "  <svg xmlns=\"http://www.w3.org/2000/svg\" height=\"24px\"viewBox=\"0 0 24 24\"\n",
              "       width=\"24px\">\n",
              "    <path d=\"M0 0h24v24H0V0z\" fill=\"none\"/>\n",
              "    <path d=\"M18.56 5.44l.94 2.06.94-2.06 2.06-.94-2.06-.94-.94-2.06-.94 2.06-2.06.94zm-11 1L8.5 8.5l.94-2.06 2.06-.94-2.06-.94L8.5 2.5l-.94 2.06-2.06.94zm10 10l.94 2.06.94-2.06 2.06-.94-2.06-.94-.94-2.06-.94 2.06-2.06.94z\"/><path d=\"M17.41 7.96l-1.37-1.37c-.4-.4-.92-.59-1.43-.59-.52 0-1.04.2-1.43.59L10.3 9.45l-7.72 7.72c-.78.78-.78 2.05 0 2.83L4 21.41c.39.39.9.59 1.41.59.51 0 1.02-.2 1.41-.59l7.78-7.78 2.81-2.81c.8-.78.8-2.07 0-2.86zM5.41 20L4 18.59l7.72-7.72 1.47 1.35L5.41 20z\"/>\n",
              "  </svg>\n",
              "      </button>\n",
              "\n",
              "\n",
              "\n",
              "    <div id=\"df-93f4cbf8-b94e-4903-be4b-393ed48b1100\">\n",
              "      <button class=\"colab-df-quickchart\" onclick=\"quickchart('df-93f4cbf8-b94e-4903-be4b-393ed48b1100')\"\n",
              "              title=\"Suggest charts.\"\n",
              "              style=\"display:none;\">\n",
              "\n",
              "<svg xmlns=\"http://www.w3.org/2000/svg\" height=\"24px\"viewBox=\"0 0 24 24\"\n",
              "     width=\"24px\">\n",
              "    <g>\n",
              "        <path d=\"M19 3H5c-1.1 0-2 .9-2 2v14c0 1.1.9 2 2 2h14c1.1 0 2-.9 2-2V5c0-1.1-.9-2-2-2zM9 17H7v-7h2v7zm4 0h-2V7h2v10zm4 0h-2v-4h2v4z\"/>\n",
              "    </g>\n",
              "</svg>\n",
              "      </button>\n",
              "    </div>\n",
              "\n",
              "<style>\n",
              "  .colab-df-quickchart {\n",
              "    background-color: #E8F0FE;\n",
              "    border: none;\n",
              "    border-radius: 50%;\n",
              "    cursor: pointer;\n",
              "    display: none;\n",
              "    fill: #1967D2;\n",
              "    height: 32px;\n",
              "    padding: 0 0 0 0;\n",
              "    width: 32px;\n",
              "  }\n",
              "\n",
              "  .colab-df-quickchart:hover {\n",
              "    background-color: #E2EBFA;\n",
              "    box-shadow: 0px 1px 2px rgba(60, 64, 67, 0.3), 0px 1px 3px 1px rgba(60, 64, 67, 0.15);\n",
              "    fill: #174EA6;\n",
              "  }\n",
              "\n",
              "  [theme=dark] .colab-df-quickchart {\n",
              "    background-color: #3B4455;\n",
              "    fill: #D2E3FC;\n",
              "  }\n",
              "\n",
              "  [theme=dark] .colab-df-quickchart:hover {\n",
              "    background-color: #434B5C;\n",
              "    box-shadow: 0px 1px 3px 1px rgba(0, 0, 0, 0.15);\n",
              "    filter: drop-shadow(0px 1px 2px rgba(0, 0, 0, 0.3));\n",
              "    fill: #FFFFFF;\n",
              "  }\n",
              "</style>\n",
              "\n",
              "    <script>\n",
              "      async function quickchart(key) {\n",
              "        const containerElement = document.querySelector('#' + key);\n",
              "        const charts = await google.colab.kernel.invokeFunction(\n",
              "            'suggestCharts', [key], {});\n",
              "      }\n",
              "    </script>\n",
              "\n",
              "      <script>\n",
              "\n",
              "function displayQuickchartButton(domScope) {\n",
              "  let quickchartButtonEl =\n",
              "    domScope.querySelector('#df-93f4cbf8-b94e-4903-be4b-393ed48b1100 button.colab-df-quickchart');\n",
              "  quickchartButtonEl.style.display =\n",
              "    google.colab.kernel.accessAllowed ? 'block' : 'none';\n",
              "}\n",
              "\n",
              "        displayQuickchartButton(document);\n",
              "      </script>\n",
              "      <style>\n",
              "    .colab-df-container {\n",
              "      display:flex;\n",
              "      flex-wrap:wrap;\n",
              "      gap: 12px;\n",
              "    }\n",
              "\n",
              "    .colab-df-convert {\n",
              "      background-color: #E8F0FE;\n",
              "      border: none;\n",
              "      border-radius: 50%;\n",
              "      cursor: pointer;\n",
              "      display: none;\n",
              "      fill: #1967D2;\n",
              "      height: 32px;\n",
              "      padding: 0 0 0 0;\n",
              "      width: 32px;\n",
              "    }\n",
              "\n",
              "    .colab-df-convert:hover {\n",
              "      background-color: #E2EBFA;\n",
              "      box-shadow: 0px 1px 2px rgba(60, 64, 67, 0.3), 0px 1px 3px 1px rgba(60, 64, 67, 0.15);\n",
              "      fill: #174EA6;\n",
              "    }\n",
              "\n",
              "    [theme=dark] .colab-df-convert {\n",
              "      background-color: #3B4455;\n",
              "      fill: #D2E3FC;\n",
              "    }\n",
              "\n",
              "    [theme=dark] .colab-df-convert:hover {\n",
              "      background-color: #434B5C;\n",
              "      box-shadow: 0px 1px 3px 1px rgba(0, 0, 0, 0.15);\n",
              "      filter: drop-shadow(0px 1px 2px rgba(0, 0, 0, 0.3));\n",
              "      fill: #FFFFFF;\n",
              "    }\n",
              "  </style>\n",
              "\n",
              "      <script>\n",
              "        const buttonEl =\n",
              "          document.querySelector('#df-c9fd76c5-649c-47d0-904c-7698f06a4b72 button.colab-df-convert');\n",
              "        buttonEl.style.display =\n",
              "          google.colab.kernel.accessAllowed ? 'block' : 'none';\n",
              "\n",
              "        async function convertToInteractive(key) {\n",
              "          const element = document.querySelector('#df-c9fd76c5-649c-47d0-904c-7698f06a4b72');\n",
              "          const dataTable =\n",
              "            await google.colab.kernel.invokeFunction('convertToInteractive',\n",
              "                                                     [key], {});\n",
              "          if (!dataTable) return;\n",
              "\n",
              "          const docLinkHtml = 'Like what you see? Visit the ' +\n",
              "            '<a target=\"_blank\" href=https://colab.research.google.com/notebooks/data_table.ipynb>data table notebook</a>'\n",
              "            + ' to learn more about interactive tables.';\n",
              "          element.innerHTML = '';\n",
              "          dataTable['output_type'] = 'display_data';\n",
              "          await google.colab.output.renderOutput(dataTable, element);\n",
              "          const docLink = document.createElement('div');\n",
              "          docLink.innerHTML = docLinkHtml;\n",
              "          element.appendChild(docLink);\n",
              "        }\n",
              "      </script>\n",
              "    </div>\n",
              "  </div>\n"
            ]
          },
          "metadata": {},
          "execution_count": 5
        }
      ]
    },
    {
      "cell_type": "code",
      "source": [
        "# Split the data into train and test sets\n",
        "X_train, X_test, y_train, y_test = train_test_split(X,y,test_size=0.2,random_state = 42)\n"
      ],
      "metadata": {
        "id": "yKa8tIjm5l4a"
      },
      "execution_count": 6,
      "outputs": []
    },
    {
      "cell_type": "markdown",
      "source": [
        "XGBoost API is used since it is highly optimized class for memory and speed."
      ],
      "metadata": {
        "id": "WV6f4U8XUGmc"
      }
    },
    {
      "cell_type": "code",
      "source": [
        "# Convert data to DMatrix format  and also enable_categorical is true to enable automatic encding  of Pandas category columns\n",
        "dtrain = xgb.DMatrix(X_train, y_train,enable_categorical=True)\n",
        "dtest = xgb.DMatrix(X_test,y_test,enable_categorical=True)"
      ],
      "metadata": {
        "id": "zU6hM4vpL0Dq"
      },
      "execution_count": 7,
      "outputs": []
    },
    {
      "cell_type": "markdown",
      "source": [
        "# Training"
      ],
      "metadata": {
        "id": "MEcuXG6Oj1Al"
      }
    },
    {
      "cell_type": "markdown",
      "source": [
        "Using XGBoost GPU acceleration şn Google Colab is straighforward. Here's a step-by-step guide on how to set it up :\n",
        "  **1.Install XGBosot with GPU Support:**  "
      ],
      "metadata": {
        "id": "QN5jJJrQgaw0"
      }
    },
    {
      "cell_type": "code",
      "source": [
        "!pip install xgboost"
      ],
      "metadata": {
        "colab": {
          "base_uri": "https://localhost:8080/"
        },
        "id": "Im504WgrgReS",
        "outputId": "93c1158d-c471-4d7c-8d99-ecd218cd2dba"
      },
      "execution_count": 8,
      "outputs": [
        {
          "output_type": "stream",
          "name": "stdout",
          "text": [
            "Requirement already satisfied: xgboost in /usr/local/lib/python3.10/dist-packages (1.7.6)\n",
            "Requirement already satisfied: numpy in /usr/local/lib/python3.10/dist-packages (from xgboost) (1.23.5)\n",
            "Requirement already satisfied: scipy in /usr/local/lib/python3.10/dist-packages (from xgboost) (1.10.1)\n"
          ]
        }
      ]
    },
    {
      "cell_type": "markdown",
      "source": [
        "**2. Check GPU Available:**"
      ],
      "metadata": {
        "id": "C3ju9zXTiDvL"
      }
    },
    {
      "cell_type": "code",
      "source": [
        "import tensorflow as tf\n",
        "print('GPU Available: ', tf.config.list_physical_devices('GPU'))"
      ],
      "metadata": {
        "colab": {
          "base_uri": "https://localhost:8080/"
        },
        "id": "U40OBYZFiBYE",
        "outputId": "2adbf7d9-c125-482d-c701-ca637885c1fb"
      },
      "execution_count": 9,
      "outputs": [
        {
          "output_type": "stream",
          "name": "stdout",
          "text": [
            "GPU Available:  [PhysicalDevice(name='/physical_device:GPU:0', device_type='GPU')]\n"
          ]
        }
      ]
    },
    {
      "cell_type": "code",
      "source": [
        "# dfining hyperparameters for XGBoost\n",
        "params = {\n",
        "    'objective' : 'binary:logistic',   # Binary classifiaction problem\n",
        "    'eval_metric' : 'logloss' ,        # Evaluation metric: Logarithmic loss\n",
        "    'max_depth' : 3,                   # Maxiumu depth of a tree\n",
        "    'eta' : 0.1 ,                      # Learning rate\n",
        "    'subsample' : 0.8  ,               # Subsample ratio of the training data\n",
        "    'colsample_bytree' : 0.8,          # Subsample ratio of columns when constructing each tree\n",
        "    'seed' : 42 ,                      # Random seed\n",
        "    'tree_method': 'gpu_hist'          # Enables GPU acceleration\n",
        "}"
      ],
      "metadata": {
        "id": "L5-MC2GViyAK"
      },
      "execution_count": 10,
      "outputs": []
    },
    {
      "cell_type": "code",
      "source": [
        "# Train the XGBoost model\n",
        "num_boost_round = 100   # number of iteration\n",
        "model = xgb.train(params = params,\n",
        "                  dtrain = dtrain,\n",
        "                  num_boost_round = num_boost_round\n",
        "                  )"
      ],
      "metadata": {
        "id": "7DHayJ0sdkoB"
      },
      "execution_count": 11,
      "outputs": []
    },
    {
      "cell_type": "markdown",
      "source": [
        "# Evaluation"
      ],
      "metadata": {
        "id": "uFk6_99Xj6cQ"
      }
    },
    {
      "cell_type": "code",
      "source": [
        "# Make predictions on the train set\n",
        "y_pred_prob = model.predict(dtrain)\n",
        "y_pred = (y_pred_prob > 0.5).astype(int)\n",
        "\n",
        "# Calculate accuracy and other metrics\n",
        "accurracy = accuracy_score(y_train,y_pred)\n",
        "classification = classification_report(y_train,y_pred)\n",
        "\n",
        "print(f\"Accuracy: {accurracy: .2f}\")\n",
        "print(\"Classification Report:\\n\",classification)"
      ],
      "metadata": {
        "id": "_G2iCRc1xldv",
        "outputId": "d4c52d17-cff8-496d-b2a5-42b6c6d47baa",
        "colab": {
          "base_uri": "https://localhost:8080/"
        }
      },
      "execution_count": 27,
      "outputs": [
        {
          "output_type": "stream",
          "name": "stdout",
          "text": [
            "Accuracy:  0.90\n",
            "Classification Report:\n",
            "               precision    recall  f1-score   support\n",
            "\n",
            "           0       0.94      0.88      0.91       398\n",
            "           1       0.84      0.92      0.88       273\n",
            "\n",
            "    accuracy                           0.90       671\n",
            "   macro avg       0.89      0.90      0.89       671\n",
            "weighted avg       0.90      0.90      0.90       671\n",
            "\n"
          ]
        }
      ]
    },
    {
      "cell_type": "code",
      "source": [
        "#Make predictions on the test set\n",
        "y_pred_prob = model.predict(dtest)\n",
        "y_pred = (y_pred_prob > 0.5).astype(int)\n",
        "\n",
        "# Calculate accuracy and other metrics\n",
        "accurracy = accuracy_score(y_test,y_pred)\n",
        "classification_rep = classification_report(y_test,y_pred)\n",
        "\n",
        "print(f\"Accuracy: {accurracy: .2f}\\n\")\n",
        "print(\"Classification Report:\\n\",classification_rep)"
      ],
      "metadata": {
        "id": "eAd7w47Gz4aa",
        "outputId": "aa37aec2-3caa-47a3-b9cb-238c7ffca418",
        "colab": {
          "base_uri": "https://localhost:8080/"
        }
      },
      "execution_count": 26,
      "outputs": [
        {
          "output_type": "stream",
          "name": "stdout",
          "text": [
            "Accuracy:  0.84\n",
            "\n",
            "Classification Report:\n",
            "               precision    recall  f1-score   support\n",
            "\n",
            "           0       0.87      0.82      0.84        89\n",
            "           1       0.81      0.86      0.83        79\n",
            "\n",
            "    accuracy                           0.84       168\n",
            "   macro avg       0.84      0.84      0.84       168\n",
            "weighted avg       0.84      0.84      0.84       168\n",
            "\n"
          ]
        }
      ]
    },
    {
      "cell_type": "code",
      "source": [
        "#Make predictions on the all dataset\n",
        "X = xgb.DMatrix(X,y,enable_categorical=True)\n",
        "y_pred_prob = model.predict(X)\n",
        "y_pred = (y_pred_prob > 0.5).astype(int)\n",
        "\n",
        "# Calculate accuracy and other metrics\n",
        "accurracy = accuracy_score(y,y_pred)\n",
        "classification_rep = classification_report(y,y_pred)\n",
        "\n",
        "print(f\"Accuracy: {accurracy: .2f}\\n\")\n",
        "print(\"Classification Report:\\n\",classification_rep)"
      ],
      "metadata": {
        "id": "UtprGXQn0kVQ",
        "outputId": "d9fef0d5-8347-4963-ffc4-8b04b5fcc600",
        "colab": {
          "base_uri": "https://localhost:8080/"
        }
      },
      "execution_count": 29,
      "outputs": [
        {
          "output_type": "stream",
          "name": "stdout",
          "text": [
            "Accuracy:  0.88\n",
            "\n",
            "Classification Report:\n",
            "               precision    recall  f1-score   support\n",
            "\n",
            "           0       0.93      0.87      0.90       487\n",
            "           1       0.83      0.91      0.87       352\n",
            "\n",
            "    accuracy                           0.88       839\n",
            "   macro avg       0.88      0.89      0.88       839\n",
            "weighted avg       0.89      0.88      0.88       839\n",
            "\n"
          ]
        }
      ]
    },
    {
      "cell_type": "markdown",
      "source": [
        "## Using Validation Sets During Training\n",
        "There are a list of two tuples that each two elements. The first element is the array for the model to evaluate, and the second is the array's name."
      ],
      "metadata": {
        "id": "uMZyxT1_0HAE"
      }
    },
    {
      "cell_type": "code",
      "source": [
        "evals = [(dtrain,\"train\"), (dtest,\"validation\")]"
      ],
      "metadata": {
        "id": "O7geomQ32qIr"
      },
      "execution_count": 31,
      "outputs": []
    },
    {
      "cell_type": "code",
      "source": [
        "# Train the XGBoost model using validation set\n",
        "num_boost_round = 100   # number of iteration\n",
        "model = xgb.train(params = params,\n",
        "                  dtrain = dtrain,\n",
        "                  num_boost_round = num_boost_round,\n",
        "                  evals = evals ,\n",
        "                  verbose_eval = 10, # Every ten rounds\n",
        "                  )"
      ],
      "metadata": {
        "id": "B9xxylpV278E",
        "outputId": "feb7354b-6d2f-4b69-8ebe-ce3be5941bb2",
        "colab": {
          "base_uri": "https://localhost:8080/"
        }
      },
      "execution_count": 33,
      "outputs": [
        {
          "output_type": "stream",
          "name": "stdout",
          "text": [
            "[0]\ttrain-logloss:0.63902\tvalidation-logloss:0.64210\n",
            "[10]\ttrain-logloss:0.40692\tvalidation-logloss:0.43583\n",
            "[20]\ttrain-logloss:0.33758\tvalidation-logloss:0.38188\n",
            "[30]\ttrain-logloss:0.30729\tvalidation-logloss:0.36368\n",
            "[40]\ttrain-logloss:0.29100\tvalidation-logloss:0.35936\n",
            "[50]\ttrain-logloss:0.27885\tvalidation-logloss:0.35782\n",
            "[60]\ttrain-logloss:0.27156\tvalidation-logloss:0.36050\n",
            "[70]\ttrain-logloss:0.26407\tvalidation-logloss:0.35735\n",
            "[80]\ttrain-logloss:0.25632\tvalidation-logloss:0.35947\n",
            "[90]\ttrain-logloss:0.25124\tvalidation-logloss:0.36007\n",
            "[99]\ttrain-logloss:0.24606\tvalidation-logloss:0.36307\n"
          ]
        }
      ]
    },
    {
      "cell_type": "markdown",
      "source": [
        "### XGBoost Early Stoppping\n",
        "by now, you must realize how important boosting rounds are. Generally, the more round there are, the more XGBoost tries to minimize the loss. But this doesn't mean the loss will always go down. Let's try with 50000 boosting rounds with the verbosity of 500 :"
      ],
      "metadata": {
        "id": "mHjDiwP73xnU"
      }
    },
    {
      "cell_type": "code",
      "source": [
        "# Train the XGBoost model using validation set\n",
        "num_boost_round = 500   # number of iteration\n",
        "model = xgb.train(params = params,\n",
        "                  dtrain = dtrain,\n",
        "                  num_boost_round = num_boost_round,\n",
        "                  evals = evals ,\n",
        "                  verbose_eval = 20, # Every ten rounds\n",
        "                  )"
      ],
      "metadata": {
        "id": "4fVdxGDq2Fub",
        "outputId": "2fd5beb1-b7f5-4344-be58-3de24aef8ce0",
        "colab": {
          "base_uri": "https://localhost:8080/"
        }
      },
      "execution_count": 37,
      "outputs": [
        {
          "output_type": "stream",
          "name": "stdout",
          "text": [
            "[0]\ttrain-logloss:0.63902\tvalidation-logloss:0.64210\n",
            "[20]\ttrain-logloss:0.33758\tvalidation-logloss:0.38188\n",
            "[40]\ttrain-logloss:0.29100\tvalidation-logloss:0.35936\n",
            "[60]\ttrain-logloss:0.27156\tvalidation-logloss:0.36050\n",
            "[80]\ttrain-logloss:0.25632\tvalidation-logloss:0.35947\n",
            "[100]\ttrain-logloss:0.24534\tvalidation-logloss:0.36414\n",
            "[120]\ttrain-logloss:0.23364\tvalidation-logloss:0.36698\n",
            "[140]\ttrain-logloss:0.22741\tvalidation-logloss:0.37154\n",
            "[160]\ttrain-logloss:0.21910\tvalidation-logloss:0.37944\n",
            "[180]\ttrain-logloss:0.21209\tvalidation-logloss:0.38260\n",
            "[200]\ttrain-logloss:0.20585\tvalidation-logloss:0.38743\n",
            "[220]\ttrain-logloss:0.19990\tvalidation-logloss:0.39131\n",
            "[240]\ttrain-logloss:0.19427\tvalidation-logloss:0.39479\n",
            "[260]\ttrain-logloss:0.18854\tvalidation-logloss:0.39659\n",
            "[280]\ttrain-logloss:0.18363\tvalidation-logloss:0.40318\n",
            "[300]\ttrain-logloss:0.17936\tvalidation-logloss:0.40452\n",
            "[320]\ttrain-logloss:0.17480\tvalidation-logloss:0.40729\n",
            "[340]\ttrain-logloss:0.16996\tvalidation-logloss:0.41243\n",
            "[360]\ttrain-logloss:0.16586\tvalidation-logloss:0.41126\n",
            "[380]\ttrain-logloss:0.16233\tvalidation-logloss:0.41718\n",
            "[400]\ttrain-logloss:0.15873\tvalidation-logloss:0.41915\n",
            "[420]\ttrain-logloss:0.15536\tvalidation-logloss:0.42087\n",
            "[440]\ttrain-logloss:0.15298\tvalidation-logloss:0.42646\n",
            "[460]\ttrain-logloss:0.15022\tvalidation-logloss:0.42928\n",
            "[480]\ttrain-logloss:0.14714\tvalidation-logloss:0.43511\n",
            "[499]\ttrain-logloss:0.14507\tvalidation-logloss:0.43811\n"
          ]
        }
      ]
    },
    {
      "cell_type": "markdown",
      "source": [
        "We get the lowest loss before round 50. After that, even through training loss keeps going dowg, the validation loss keeps increasing.\n",
        "\n",
        "When given uncessary number of boosting rounds, XGBoost starts to overfit and memorize the dataset. This, in turn, leads to validation performance drop because the model is memorizing instead of generalizing.\n",
        "\n",
        "We want to find the **golden middle**. It is a model that learned just enough patterns in training that it gives the highes performance on the validation set.\n",
        "\n",
        "We will use a technique called **early stopping**. Early stopping forces XGBoost to watch the validation loss, and if stop improving for a specified number of rounds, it automatically stops trainng.\n",
        "\n",
        "Let's use 500 boosting rounds and set the early_stopping_rounds parameter to 50. This way, XGBoost will automatically stop the training if validation loss doesn't improve for consecutive rounds."
      ],
      "metadata": {
        "id": "V5UwyO_Y5I_x"
      }
    },
    {
      "cell_type": "code",
      "source": [
        "# Train the XGBoost model using validation set\n",
        "num_boost_round = 100   # number of iteration\n",
        "model = xgb.train(params = params,\n",
        "                  dtrain = dtrain,\n",
        "                  num_boost_round = num_boost_round,\n",
        "                  evals = evals ,\n",
        "                  verbose_eval = 10, # Every ten rounds\n",
        "                  early_stopping_rounds = 50\n",
        "                  )"
      ],
      "metadata": {
        "id": "WMKPHXnc8Vc7",
        "outputId": "9ce2608f-9279-4968-abba-8ea6849f076b",
        "colab": {
          "base_uri": "https://localhost:8080/"
        }
      },
      "execution_count": 41,
      "outputs": [
        {
          "output_type": "stream",
          "name": "stdout",
          "text": [
            "[0]\ttrain-logloss:0.63902\tvalidation-logloss:0.64210\n",
            "[10]\ttrain-logloss:0.40692\tvalidation-logloss:0.43583\n",
            "[20]\ttrain-logloss:0.33758\tvalidation-logloss:0.38188\n",
            "[30]\ttrain-logloss:0.30729\tvalidation-logloss:0.36368\n",
            "[40]\ttrain-logloss:0.29100\tvalidation-logloss:0.35936\n",
            "[50]\ttrain-logloss:0.27885\tvalidation-logloss:0.35782\n",
            "[60]\ttrain-logloss:0.27156\tvalidation-logloss:0.36050\n",
            "[70]\ttrain-logloss:0.26407\tvalidation-logloss:0.35735\n",
            "[80]\ttrain-logloss:0.25632\tvalidation-logloss:0.35947\n",
            "[90]\ttrain-logloss:0.25124\tvalidation-logloss:0.36007\n",
            "[99]\ttrain-logloss:0.24606\tvalidation-logloss:0.36307\n"
          ]
        }
      ]
    },
    {
      "cell_type": "markdown",
      "source": [
        "As it is seen, the training stopped after the 99th roound since the loss stopped improving for 50 rounds"
      ],
      "metadata": {
        "id": "KPtALs2Z9KIl"
      }
    },
    {
      "cell_type": "markdown",
      "source": [
        "###XGBoost Cross-Validation\n",
        "We try to find the best value of a hyperparameter by comparing the validation performance of the model on the test set, we will end up with a model that is configure to perform well only on that particular test set. Instead, we want a model that performs well across the board-on any test set we throw at it.\n",
        "\n",
        "A possible workaround is splitting the data into three sets. The model trains on the first set, the second set is used for evaluation and hyperparameter tuning, and the third is the  final one we sets the model before producton.\n",
        "\n",
        "But when data is limited, splitting data into three sets will make the training set sparse, which hurts model performance."
      ],
      "metadata": {
        "id": "jMQtZCE19gpZ"
      }
    },
    {
      "cell_type": "code",
      "source": [
        "results = xgb.cv(params,\n",
        "                X,\n",
        "                num_boost_round = num_boost_round,\n",
        "                nfold = 5,  # Specify the number of splits\n",
        "                early_stopping_rounds = 50\n",
        "                )"
      ],
      "metadata": {
        "id": "5c-F7PucBsEE"
      },
      "execution_count": 49,
      "outputs": []
    },
    {
      "cell_type": "markdown",
      "source": [
        "The only difference with the train function is adding bfold parameter to specify the number of splits. The results object is now a DataFrame containing each fold's results :"
      ],
      "metadata": {
        "id": "q-99euQoCULz"
      }
    },
    {
      "cell_type": "code",
      "source": [
        "results.head()"
      ],
      "metadata": {
        "id": "jqWFPSk9Cq-L",
        "outputId": "5398ec21-6b0b-4ee2-9d1d-421bb0a62c54",
        "colab": {
          "base_uri": "https://localhost:8080/",
          "height": 206
        }
      },
      "execution_count": 50,
      "outputs": [
        {
          "output_type": "execute_result",
          "data": {
            "text/plain": [
              "   train-logloss-mean  train-logloss-std  test-logloss-mean  test-logloss-std\n",
              "0            0.639750           0.001527           0.641406          0.002670\n",
              "1            0.597953           0.002278           0.601029          0.003883\n",
              "2            0.560049           0.003196           0.565366          0.006633\n",
              "3            0.528640           0.004448           0.534939          0.008572\n",
              "4            0.501831           0.005141           0.509019          0.009546"
            ],
            "text/html": [
              "\n",
              "\n",
              "  <div id=\"df-0070f9c5-c607-4f81-bc65-5ac02d41a7af\">\n",
              "    <div class=\"colab-df-container\">\n",
              "      <div>\n",
              "<style scoped>\n",
              "    .dataframe tbody tr th:only-of-type {\n",
              "        vertical-align: middle;\n",
              "    }\n",
              "\n",
              "    .dataframe tbody tr th {\n",
              "        vertical-align: top;\n",
              "    }\n",
              "\n",
              "    .dataframe thead th {\n",
              "        text-align: right;\n",
              "    }\n",
              "</style>\n",
              "<table border=\"1\" class=\"dataframe\">\n",
              "  <thead>\n",
              "    <tr style=\"text-align: right;\">\n",
              "      <th></th>\n",
              "      <th>train-logloss-mean</th>\n",
              "      <th>train-logloss-std</th>\n",
              "      <th>test-logloss-mean</th>\n",
              "      <th>test-logloss-std</th>\n",
              "    </tr>\n",
              "  </thead>\n",
              "  <tbody>\n",
              "    <tr>\n",
              "      <th>0</th>\n",
              "      <td>0.639750</td>\n",
              "      <td>0.001527</td>\n",
              "      <td>0.641406</td>\n",
              "      <td>0.002670</td>\n",
              "    </tr>\n",
              "    <tr>\n",
              "      <th>1</th>\n",
              "      <td>0.597953</td>\n",
              "      <td>0.002278</td>\n",
              "      <td>0.601029</td>\n",
              "      <td>0.003883</td>\n",
              "    </tr>\n",
              "    <tr>\n",
              "      <th>2</th>\n",
              "      <td>0.560049</td>\n",
              "      <td>0.003196</td>\n",
              "      <td>0.565366</td>\n",
              "      <td>0.006633</td>\n",
              "    </tr>\n",
              "    <tr>\n",
              "      <th>3</th>\n",
              "      <td>0.528640</td>\n",
              "      <td>0.004448</td>\n",
              "      <td>0.534939</td>\n",
              "      <td>0.008572</td>\n",
              "    </tr>\n",
              "    <tr>\n",
              "      <th>4</th>\n",
              "      <td>0.501831</td>\n",
              "      <td>0.005141</td>\n",
              "      <td>0.509019</td>\n",
              "      <td>0.009546</td>\n",
              "    </tr>\n",
              "  </tbody>\n",
              "</table>\n",
              "</div>\n",
              "      <button class=\"colab-df-convert\" onclick=\"convertToInteractive('df-0070f9c5-c607-4f81-bc65-5ac02d41a7af')\"\n",
              "              title=\"Convert this dataframe to an interactive table.\"\n",
              "              style=\"display:none;\">\n",
              "\n",
              "  <svg xmlns=\"http://www.w3.org/2000/svg\" height=\"24px\"viewBox=\"0 0 24 24\"\n",
              "       width=\"24px\">\n",
              "    <path d=\"M0 0h24v24H0V0z\" fill=\"none\"/>\n",
              "    <path d=\"M18.56 5.44l.94 2.06.94-2.06 2.06-.94-2.06-.94-.94-2.06-.94 2.06-2.06.94zm-11 1L8.5 8.5l.94-2.06 2.06-.94-2.06-.94L8.5 2.5l-.94 2.06-2.06.94zm10 10l.94 2.06.94-2.06 2.06-.94-2.06-.94-.94-2.06-.94 2.06-2.06.94z\"/><path d=\"M17.41 7.96l-1.37-1.37c-.4-.4-.92-.59-1.43-.59-.52 0-1.04.2-1.43.59L10.3 9.45l-7.72 7.72c-.78.78-.78 2.05 0 2.83L4 21.41c.39.39.9.59 1.41.59.51 0 1.02-.2 1.41-.59l7.78-7.78 2.81-2.81c.8-.78.8-2.07 0-2.86zM5.41 20L4 18.59l7.72-7.72 1.47 1.35L5.41 20z\"/>\n",
              "  </svg>\n",
              "      </button>\n",
              "\n",
              "\n",
              "\n",
              "    <div id=\"df-a3a3cd39-a375-45f2-a2dd-631e41daddd0\">\n",
              "      <button class=\"colab-df-quickchart\" onclick=\"quickchart('df-a3a3cd39-a375-45f2-a2dd-631e41daddd0')\"\n",
              "              title=\"Suggest charts.\"\n",
              "              style=\"display:none;\">\n",
              "\n",
              "<svg xmlns=\"http://www.w3.org/2000/svg\" height=\"24px\"viewBox=\"0 0 24 24\"\n",
              "     width=\"24px\">\n",
              "    <g>\n",
              "        <path d=\"M19 3H5c-1.1 0-2 .9-2 2v14c0 1.1.9 2 2 2h14c1.1 0 2-.9 2-2V5c0-1.1-.9-2-2-2zM9 17H7v-7h2v7zm4 0h-2V7h2v10zm4 0h-2v-4h2v4z\"/>\n",
              "    </g>\n",
              "</svg>\n",
              "      </button>\n",
              "    </div>\n",
              "\n",
              "<style>\n",
              "  .colab-df-quickchart {\n",
              "    background-color: #E8F0FE;\n",
              "    border: none;\n",
              "    border-radius: 50%;\n",
              "    cursor: pointer;\n",
              "    display: none;\n",
              "    fill: #1967D2;\n",
              "    height: 32px;\n",
              "    padding: 0 0 0 0;\n",
              "    width: 32px;\n",
              "  }\n",
              "\n",
              "  .colab-df-quickchart:hover {\n",
              "    background-color: #E2EBFA;\n",
              "    box-shadow: 0px 1px 2px rgba(60, 64, 67, 0.3), 0px 1px 3px 1px rgba(60, 64, 67, 0.15);\n",
              "    fill: #174EA6;\n",
              "  }\n",
              "\n",
              "  [theme=dark] .colab-df-quickchart {\n",
              "    background-color: #3B4455;\n",
              "    fill: #D2E3FC;\n",
              "  }\n",
              "\n",
              "  [theme=dark] .colab-df-quickchart:hover {\n",
              "    background-color: #434B5C;\n",
              "    box-shadow: 0px 1px 3px 1px rgba(0, 0, 0, 0.15);\n",
              "    filter: drop-shadow(0px 1px 2px rgba(0, 0, 0, 0.3));\n",
              "    fill: #FFFFFF;\n",
              "  }\n",
              "</style>\n",
              "\n",
              "    <script>\n",
              "      async function quickchart(key) {\n",
              "        const containerElement = document.querySelector('#' + key);\n",
              "        const charts = await google.colab.kernel.invokeFunction(\n",
              "            'suggestCharts', [key], {});\n",
              "      }\n",
              "    </script>\n",
              "\n",
              "      <script>\n",
              "\n",
              "function displayQuickchartButton(domScope) {\n",
              "  let quickchartButtonEl =\n",
              "    domScope.querySelector('#df-a3a3cd39-a375-45f2-a2dd-631e41daddd0 button.colab-df-quickchart');\n",
              "  quickchartButtonEl.style.display =\n",
              "    google.colab.kernel.accessAllowed ? 'block' : 'none';\n",
              "}\n",
              "\n",
              "        displayQuickchartButton(document);\n",
              "      </script>\n",
              "      <style>\n",
              "    .colab-df-container {\n",
              "      display:flex;\n",
              "      flex-wrap:wrap;\n",
              "      gap: 12px;\n",
              "    }\n",
              "\n",
              "    .colab-df-convert {\n",
              "      background-color: #E8F0FE;\n",
              "      border: none;\n",
              "      border-radius: 50%;\n",
              "      cursor: pointer;\n",
              "      display: none;\n",
              "      fill: #1967D2;\n",
              "      height: 32px;\n",
              "      padding: 0 0 0 0;\n",
              "      width: 32px;\n",
              "    }\n",
              "\n",
              "    .colab-df-convert:hover {\n",
              "      background-color: #E2EBFA;\n",
              "      box-shadow: 0px 1px 2px rgba(60, 64, 67, 0.3), 0px 1px 3px 1px rgba(60, 64, 67, 0.15);\n",
              "      fill: #174EA6;\n",
              "    }\n",
              "\n",
              "    [theme=dark] .colab-df-convert {\n",
              "      background-color: #3B4455;\n",
              "      fill: #D2E3FC;\n",
              "    }\n",
              "\n",
              "    [theme=dark] .colab-df-convert:hover {\n",
              "      background-color: #434B5C;\n",
              "      box-shadow: 0px 1px 3px 1px rgba(0, 0, 0, 0.15);\n",
              "      filter: drop-shadow(0px 1px 2px rgba(0, 0, 0, 0.3));\n",
              "      fill: #FFFFFF;\n",
              "    }\n",
              "  </style>\n",
              "\n",
              "      <script>\n",
              "        const buttonEl =\n",
              "          document.querySelector('#df-0070f9c5-c607-4f81-bc65-5ac02d41a7af button.colab-df-convert');\n",
              "        buttonEl.style.display =\n",
              "          google.colab.kernel.accessAllowed ? 'block' : 'none';\n",
              "\n",
              "        async function convertToInteractive(key) {\n",
              "          const element = document.querySelector('#df-0070f9c5-c607-4f81-bc65-5ac02d41a7af');\n",
              "          const dataTable =\n",
              "            await google.colab.kernel.invokeFunction('convertToInteractive',\n",
              "                                                     [key], {});\n",
              "          if (!dataTable) return;\n",
              "\n",
              "          const docLinkHtml = 'Like what you see? Visit the ' +\n",
              "            '<a target=\"_blank\" href=https://colab.research.google.com/notebooks/data_table.ipynb>data table notebook</a>'\n",
              "            + ' to learn more about interactive tables.';\n",
              "          element.innerHTML = '';\n",
              "          dataTable['output_type'] = 'display_data';\n",
              "          await google.colab.output.renderOutput(dataTable, element);\n",
              "          const docLink = document.createElement('div');\n",
              "          docLink.innerHTML = docLinkHtml;\n",
              "          element.appendChild(docLink);\n",
              "        }\n",
              "      </script>\n",
              "    </div>\n",
              "  </div>\n"
            ]
          },
          "metadata": {},
          "execution_count": 50
        }
      ]
    },
    {
      "cell_type": "code",
      "source": [
        "best_lost = results['test-logloss-mean'].min()\n",
        "best_lost"
      ],
      "metadata": {
        "id": "ZWj3y0eOEONn",
        "outputId": "4aa99a7c-d82b-4718-da92-ca1ba3b2d69f",
        "colab": {
          "base_uri": "https://localhost:8080/"
        }
      },
      "execution_count": 53,
      "outputs": [
        {
          "output_type": "execute_result",
          "data": {
            "text/plain": [
              "0.34391303199165063"
            ]
          },
          "metadata": {},
          "execution_count": 53
        }
      ]
    },
    {
      "cell_type": "markdown",
      "source": [],
      "metadata": {
        "id": "Sf1m3YJ4FxF5"
      }
    }
  ]
}